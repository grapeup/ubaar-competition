{
 "cells": [
  {
   "cell_type": "markdown",
   "id": "blank-recommendation",
   "metadata": {},
   "source": [
    "## Modeling\n",
    "This is the notebook with the model research in order to get as good MAPE as possible"
   ]
  },
  {
   "cell_type": "code",
   "execution_count": 10,
   "id": "falling-pilot",
   "metadata": {},
   "outputs": [],
   "source": [
    "import os\n",
    "import pandas as pd\n",
    "import numpy as np\n",
    "from sklearn.preprocessing import StandardScaler\n",
    "from sklearn.linear_model import Ridge\n",
    "from sklearn.ensemble import RandomForestRegressor, GradientBoostingRegressor\n",
    "from sklearn.preprocessing import LabelEncoder\n",
    "from sklearn.metrics import mean_absolute_percentage_error\n",
    "from sklearn.model_selection import KFold\n",
    "import xgboost as xgb\n",
    "\n",
    "import mlflow\n",
    "\n",
    "import IPython.display as ipd\n",
    "import seaborn as sns\n",
    "import matplotlib.pylab as plt"
   ]
  },
  {
   "cell_type": "code",
   "execution_count": 11,
   "id": "lined-fighter",
   "metadata": {},
   "outputs": [],
   "source": [
    "data = pd.read_csv(os.path.join('..', 'data', 'processed', 'ubaar_features.csv'), encoding=\"utf-8\", index_col=\"ID\")"
   ]
  },
  {
   "cell_type": "code",
   "execution_count": 12,
   "id": "molecular-pollution",
   "metadata": {},
   "outputs": [
    {
     "data": {
      "text/plain": [
       "(49371, 52)"
      ]
     },
     "execution_count": 12,
     "metadata": {},
     "output_type": "execute_result"
    }
   ],
   "source": [
    "data.shape"
   ]
  },
  {
   "cell_type": "code",
   "execution_count": 13,
   "id": "spare-interim",
   "metadata": {},
   "outputs": [],
   "source": [
    "features_columns = data.columns\n",
    "# features_columns = [c for c in features_columns if not c.startswith('cluster_')]\n",
    "# features_columns = [c for c in features_columns if not c.startswith('weight_d')]\n",
    "features_columns = list(features_columns)\n",
    "features_columns.remove('price')\n",
    "features_columns = np.array(features_columns)"
   ]
  },
  {
   "cell_type": "code",
   "execution_count": 14,
   "id": "legitimate-worry",
   "metadata": {},
   "outputs": [],
   "source": [
    "# features_columns = data.columns[data.columns  != 'price'].values"
   ]
  },
  {
   "cell_type": "code",
   "execution_count": 15,
   "id": "pacific-laptop",
   "metadata": {},
   "outputs": [],
   "source": [
    "def setup_mlflow():\n",
    "    remote_server_uri = \"http://18.185.244.61:5050\"\n",
    "    mlflow.set_tracking_uri(remote_server_uri)\n",
    "    mlflow.set_experiment(\"UbaarCV\") \n",
    "    mlflow.end_run()\n",
    "    mlflow.start_run(run_name='')"
   ]
  },
  {
   "cell_type": "code",
   "execution_count": 16,
   "id": "acoustic-course",
   "metadata": {},
   "outputs": [],
   "source": [
    "def train_sklearn(x_train, y_train, x_dev, y_dev):\n",
    "#     model = Ridge(alpha=5.0, fit_intercept=True, normalize=False, copy_X=True, solver='auto', random_state=42)\n",
    "    model = RandomForestRegressor(n_estimators=20, max_depth=20, min_samples_leaf=8, random_state=42)\n",
    "    \n",
    "    \n",
    "    model.fit(x_train, np.log(y_train * 0.95))\n",
    "\n",
    "    preds_train = np.exp(model.predict(x_train))\n",
    "    preds_dev = np.exp(model.predict(x_dev))\n",
    "\n",
    "    return preds_train, preds_dev, model.__dict__, model\n",
    "\n",
    "PARAMS = {'objective': 'reg:squarederror',\n",
    "          'eval_metric': 'mape',\n",
    "         'booster': 'gbtree', 'eta': 0.05, 'max_depth': 16,\n",
    "         'min_child_weight': 0.01,\n",
    "         'subsample': 0.9, 'colsample_bytree': 0.6,\n",
    "         'colsample_bylevel': 0.1, 'alpha': 0.0,\n",
    "         'lambda': 0.5, 'seed': 42, 'gamma': 0.0,\n",
    "         'max_delta_step': 0}\n",
    "\n",
    "def train_xgb(x_train, y_train, x_dev, y_dev):\n",
    "    \n",
    "    dtrain = xgb.DMatrix(x_train, label=np.log(y_train * 0.95))\n",
    "    dtest = xgb.DMatrix(x_dev, label=np.log(y_dev * 0.95))\n",
    "    evallist = [(dtest, 'eval')]\n",
    "    \n",
    "    model = xgb.train(PARAMS, dtrain, 3000, evals=evallist, verbose_eval=False, early_stopping_rounds=500)\n",
    "    preds_train = np.exp(model.predict(dtrain, model.best_iteration+0))\n",
    "    preds_dev = np.exp(model.predict(dtest, model.best_iteration+0))\n",
    "#     print(model.best_iteration)\n",
    "    model_params = PARAMS\n",
    "    return preds_train, preds_dev, model_params, model\n",
    "    "
   ]
  },
  {
   "cell_type": "code",
   "execution_count": 17,
   "id": "secret-weather",
   "metadata": {},
   "outputs": [
    {
     "name": "stdout",
     "output_type": "stream",
     "text": [
      "Train MAPE: 0.05752020981854809\n",
      "Dev MAPE: 0.16381656390114638\n",
      "Train MAPE: 0.05556708515752066\n",
      "Dev MAPE: 0.16356359022669906\n",
      "Train MAPE: 0.056173085122591296\n",
      "Dev MAPE: 0.16377886208096382\n",
      "Train MAPE: 0.05616954408676226\n",
      "Dev MAPE: 0.16114117934313438\n",
      "Train MAPE: 0.05581775434778773\n",
      "Dev MAPE: 0.16432791215038256\n",
      "================\n",
      "Mean MAPE: 0.16332562154046523\n",
      "Std MAPE: 0.0011206653974223154\n"
     ]
    }
   ],
   "source": [
    "setup_mlflow()\n",
    "mlflow.log_param('features', features_columns)\n",
    "\n",
    "\n",
    "y_full = data['price'].values\n",
    "x_full = data[features_columns].values\n",
    "\n",
    "kfold = KFold(n_splits=5, shuffle=True, random_state=42)\n",
    "\n",
    "train_mapes = []\n",
    "dev_mapes = []\n",
    "dev_preds = []\n",
    "dev_refs = []\n",
    "dev_inds = []\n",
    "\n",
    "for train_ind, dev_ind in kfold.split(x_full):\n",
    "    \n",
    "    x_train = x_full[train_ind]\n",
    "    y_train = y_full[train_ind]\n",
    "    x_dev = x_full[dev_ind]\n",
    "    y_dev = y_full[dev_ind]\n",
    "    \n",
    "#     scaler = StandardScaler()\n",
    "#     scaler.fit(x_train)\n",
    "#     x_train = scaler.transform(x_train)\n",
    "#     x_dev = scaler.transform(x_dev)\n",
    "\n",
    "#     preds_train, preds_dev, model_params, model = train_sklearn(x_train, y_train, x_dev, y_dev)\n",
    "    preds_train, preds_dev, model_params, model = train_xgb(x_train, y_train, x_dev, y_dev)\n",
    "#     preds_train2, preds_dev2, model_params2, model2 = train_xgb(x_train, y_train, x_dev, y_dev)\n",
    "#     preds_train = (preds_train + preds_train2)/2\n",
    "#     preds_dev = (preds_dev + preds_dev2)/2\n",
    "    \n",
    "    mlflow.log_param('features', features_columns)\n",
    "    mlflow.log_param('model_params', model_params)\n",
    "\n",
    "    train_mape = mean_absolute_percentage_error(y_train, preds_train)\n",
    "    dev_mape = mean_absolute_percentage_error(y_dev, preds_dev)\n",
    "    \n",
    "    train_mapes.append(train_mape)\n",
    "    dev_mapes.append(dev_mape)\n",
    "    \n",
    "    dev_preds.extend(list(preds_dev))\n",
    "    dev_refs.extend(list(y_dev))\n",
    "    dev_inds.extend(list(dev_ind))\n",
    "    \n",
    "    print(f\"Train MAPE: {train_mape}\")\n",
    "    print(f\"Dev MAPE: {dev_mape}\")\n",
    "#     break\n",
    "#\n",
    "print(\"================\")\n",
    "print(f\"Mean MAPE: {np.mean(dev_mapes)}\")\n",
    "print(f\"Std MAPE: {np.std(dev_mapes)}\")\n",
    "\n",
    "mlflow.log_metric(\"Mean dev MAPE\", np.mean(dev_mapes))\n",
    "mlflow.log_metric(\"Std dev MAPE\", np.std(dev_mapes))\n",
    "                  \n",
    "mlflow.end_run()"
   ]
  },
  {
   "cell_type": "code",
   "execution_count": 9,
   "id": "objective-nelson",
   "metadata": {},
   "outputs": [
    {
     "data": {
      "text/html": [
       "<div>\n",
       "<style scoped>\n",
       "    .dataframe tbody tr th:only-of-type {\n",
       "        vertical-align: middle;\n",
       "    }\n",
       "\n",
       "    .dataframe tbody tr th {\n",
       "        vertical-align: top;\n",
       "    }\n",
       "\n",
       "    .dataframe thead th {\n",
       "        text-align: right;\n",
       "    }\n",
       "</style>\n",
       "<table border=\"1\" class=\"dataframe\">\n",
       "  <thead>\n",
       "    <tr style=\"text-align: right;\">\n",
       "      <th></th>\n",
       "      <th>refs</th>\n",
       "      <th>preds</th>\n",
       "      <th>inds</th>\n",
       "    </tr>\n",
       "  </thead>\n",
       "  <tbody>\n",
       "    <tr>\n",
       "      <th>9875</th>\n",
       "      <td>15300000</td>\n",
       "      <td>1.242054e+07</td>\n",
       "      <td>0</td>\n",
       "    </tr>\n",
       "    <tr>\n",
       "      <th>0</th>\n",
       "      <td>1800000</td>\n",
       "      <td>2.567827e+06</td>\n",
       "      <td>1</td>\n",
       "    </tr>\n",
       "    <tr>\n",
       "      <th>39497</th>\n",
       "      <td>3742000</td>\n",
       "      <td>3.464123e+06</td>\n",
       "      <td>2</td>\n",
       "    </tr>\n",
       "    <tr>\n",
       "      <th>19749</th>\n",
       "      <td>1300000</td>\n",
       "      <td>1.328557e+06</td>\n",
       "      <td>3</td>\n",
       "    </tr>\n",
       "    <tr>\n",
       "      <th>1</th>\n",
       "      <td>8870000</td>\n",
       "      <td>8.589164e+06</td>\n",
       "      <td>4</td>\n",
       "    </tr>\n",
       "  </tbody>\n",
       "</table>\n",
       "</div>"
      ],
      "text/plain": [
       "           refs         preds  inds\n",
       "9875   15300000  1.242054e+07     0\n",
       "0       1800000  2.567827e+06     1\n",
       "39497   3742000  3.464123e+06     2\n",
       "19749   1300000  1.328557e+06     3\n",
       "1       8870000  8.589164e+06     4"
      ]
     },
     "execution_count": 9,
     "metadata": {},
     "output_type": "execute_result"
    }
   ],
   "source": [
    "results = pd.DataFrame(list(zip(dev_refs, dev_preds, dev_inds)), columns=['refs', 'preds', 'inds'])\n",
    "results = results.sort_values('inds')\n",
    "results.head()"
   ]
  },
  {
   "cell_type": "code",
   "execution_count": 11,
   "id": "corresponding-psychology",
   "metadata": {},
   "outputs": [],
   "source": [
    "def get_sklearn_importances(model, features_columns):\n",
    "    feature_importances = model.feature_importances_\n",
    "\n",
    "    sorted_idx = model.feature_importances_.argsort()\n",
    "    \n",
    "    return features_columns[sorted_idx], feature_importances[sorted_idx]"
   ]
  },
  {
   "cell_type": "code",
   "execution_count": 12,
   "id": "answering-norfolk",
   "metadata": {},
   "outputs": [
    {
     "data": {
      "text/plain": [
       "Text(0.5, 0, 'Feature')"
      ]
     },
     "execution_count": 12,
     "metadata": {},
     "output_type": "execute_result"
    },
    {
     "data": {
      "image/png": "[encoded data removed]",
      "text/plain": [
       "<Figure size 720x720 with 1 Axes>"
      ]
     },
     "metadata": {
      "needs_background": "light"
     },
     "output_type": "display_data"
    }
   ],
   "source": [
    "columns_importances, importances = get_sklearn_importances(model, features_columns)\n",
    "\n",
    "limit = 10\n",
    "plt.figure(figsize=(10,10))\n",
    "plt.title(f'Top {limit} important features:')\n",
    "\n",
    "plt.barh(columns_importances[-limit:], importances[-limit:])\n",
    "plt.xlabel(\"Importance\")\n",
    "plt.xlabel(\"Feature\")"
   ]
  },
  {
   "cell_type": "markdown",
   "id": "accurate-excitement",
   "metadata": {},
   "source": [
    "1. We clearly overfit to train folds but achive highest score on test folds this way. With more time we could address this issue\n",
    "\n",
    "2. We also pass clustering information as ordinal variable which may be an issue for many classifiers. In case of decision trees, it requires much more splits \n",
    "to imitate categorical variables and may be confusing but on the other hand it allows to use ~50 features instead of 1600+. "
   ]
  },
  {
   "cell_type": "markdown",
   "id": "historic-arizona",
   "metadata": {},
   "source": [
    "## Training the model for deployment\n",
    "\n",
    "For sake of simplicity we train a single model without cluster features. We should use the same number iterations as shown in validation - %TODO. "
   ]
  },
  {
   "cell_type": "code",
   "execution_count": 24,
   "id": "heard-nursing",
   "metadata": {},
   "outputs": [],
   "source": [
    "features_columns = [c for c in features_columns if not c.startswith('cluster_')]\n",
    "\n",
    "y_full = data['price'].values\n",
    "x_full = data[features_columns]\n",
    "\n",
    "preds_train, preds_dev, model_params, model = train_xgb(x_full, y_full, x_full, y_full)"
   ]
  },
  {
   "cell_type": "code",
   "execution_count": 25,
   "id": "upset-trout",
   "metadata": {},
   "outputs": [
    {
     "data": {
      "text/plain": [
       "['../data/processed/model.bin']"
      ]
     },
     "execution_count": 25,
     "metadata": {},
     "output_type": "execute_result"
    }
   ],
   "source": [
    "import joblib\n",
    "joblib.dump(model, os.path.join('..', 'data', 'processed', 'model.bin')) "
   ]
  },
  {
   "cell_type": "code",
   "execution_count": null,
   "id": "virgin-adelaide",
   "metadata": {},
   "outputs": [],
   "source": []
  }
 ],
 "metadata": {
  "kernelspec": {
   "display_name": "Python 3",
   "language": "python",
   "name": "python3"
  },
  "language_info": {
   "codemirror_mode": {
    "name": "ipython",
    "version": 3
   },
   "file_extension": ".py",
   "mimetype": "text/x-python",
   "name": "python",
   "nbconvert_exporter": "python",
   "pygments_lexer": "ipython3",
   "version": "3.7.6"
  }
 },
 "nbformat": 4,
 "nbformat_minor": 5
}
