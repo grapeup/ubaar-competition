{
 "cells": [
  {
   "cell_type": "code",
   "execution_count": 123,
   "id": "metric-debate",
   "metadata": {},
   "outputs": [],
   "source": [
    "\n",
    "import os\n",
    "import pandas as pd\n",
    "import numpy as np\n",
    "from sklearn.preprocessing import StandardScaler\n",
    "from sklearn.linear_model import Ridge\n",
    "from sklearn.ensemble import RandomForestRegressor\n",
    "from sklearn.preprocessing import LabelEncoder\n",
    "from sklearn.metrics import mean_absolute_percentage_error\n",
    "from sklearn.model_selection import KFold\n",
    "\n",
    "import IPython.display as ipd\n"
   ]
  },
  {
   "cell_type": "code",
   "execution_count": 124,
   "id": "primary-paint",
   "metadata": {},
   "outputs": [],
   "source": [
    "data = pd.read_csv(os.path.join('..', 'data', 'raw', 'ubaar-competition', 'train.csv'), encoding=\"utf-8\", index_col=\"ID\")"
   ]
  },
  {
   "cell_type": "code",
   "execution_count": 125,
   "id": "determined-carol",
   "metadata": {},
   "outputs": [],
   "source": [
    "data['distanceKM'].fillna(data['distanceKM'].median(), inplace=True)\n",
    "data['taxiDurationMin'].fillna(data['taxiDurationMin'].median(), inplace=True)"
   ]
  },
  {
   "cell_type": "code",
   "execution_count": 126,
   "id": "enclosed-decimal",
   "metadata": {},
   "outputs": [
    {
     "data": {
      "text/html": [
       "<div>\n",
       "<style scoped>\n",
       "    .dataframe tbody tr th:only-of-type {\n",
       "        vertical-align: middle;\n",
       "    }\n",
       "\n",
       "    .dataframe tbody tr th {\n",
       "        vertical-align: top;\n",
       "    }\n",
       "\n",
       "    .dataframe thead th {\n",
       "        text-align: right;\n",
       "    }\n",
       "</style>\n",
       "<table border=\"1\" class=\"dataframe\">\n",
       "  <thead>\n",
       "    <tr style=\"text-align: right;\">\n",
       "      <th></th>\n",
       "      <th>date</th>\n",
       "      <th>sourceLatitude</th>\n",
       "      <th>sourceLongitude</th>\n",
       "      <th>SourceState</th>\n",
       "      <th>destinationLatitude</th>\n",
       "      <th>destinationLongitude</th>\n",
       "      <th>destinationState</th>\n",
       "      <th>distanceKM</th>\n",
       "      <th>taxiDurationMin</th>\n",
       "      <th>vehicleType</th>\n",
       "      <th>vehicleOption</th>\n",
       "      <th>weight</th>\n",
       "      <th>price</th>\n",
       "    </tr>\n",
       "    <tr>\n",
       "      <th>ID</th>\n",
       "      <th></th>\n",
       "      <th></th>\n",
       "      <th></th>\n",
       "      <th></th>\n",
       "      <th></th>\n",
       "      <th></th>\n",
       "      <th></th>\n",
       "      <th></th>\n",
       "      <th></th>\n",
       "      <th></th>\n",
       "      <th></th>\n",
       "      <th></th>\n",
       "      <th></th>\n",
       "    </tr>\n",
       "  </thead>\n",
       "  <tbody>\n",
       "    <tr>\n",
       "      <th>88142929797</th>\n",
       "      <td>960218</td>\n",
       "      <td>36.666045</td>\n",
       "      <td>48.489706</td>\n",
       "      <td>زنجان</td>\n",
       "      <td>29.600574</td>\n",
       "      <td>52.537114</td>\n",
       "      <td>فارس</td>\n",
       "      <td>1092.0</td>\n",
       "      <td>751.0</td>\n",
       "      <td>treili</td>\n",
       "      <td>kafi</td>\n",
       "      <td>20.00</td>\n",
       "      <td>15300000</td>\n",
       "    </tr>\n",
       "    <tr>\n",
       "      <th>30842979862</th>\n",
       "      <td>960511</td>\n",
       "      <td>32.323951</td>\n",
       "      <td>50.855412</td>\n",
       "      <td>چهارمحال و بختیاری</td>\n",
       "      <td>34.644923</td>\n",
       "      <td>50.876092</td>\n",
       "      <td>قم</td>\n",
       "      <td>414.0</td>\n",
       "      <td>264.0</td>\n",
       "      <td>khavar</td>\n",
       "      <td>mosaghaf_felezi</td>\n",
       "      <td>2.50</td>\n",
       "      <td>1800000</td>\n",
       "    </tr>\n",
       "    <tr>\n",
       "      <th>54262798716</th>\n",
       "      <td>960602</td>\n",
       "      <td>32.575448</td>\n",
       "      <td>51.581011</td>\n",
       "      <td>اصفهان</td>\n",
       "      <td>31.819508</td>\n",
       "      <td>49.865235</td>\n",
       "      <td>خوزستان</td>\n",
       "      <td>310.0</td>\n",
       "      <td>292.0</td>\n",
       "      <td>joft</td>\n",
       "      <td>kompressi</td>\n",
       "      <td>14.97</td>\n",
       "      <td>3742000</td>\n",
       "    </tr>\n",
       "    <tr>\n",
       "      <th>64071173752</th>\n",
       "      <td>960319</td>\n",
       "      <td>35.029685</td>\n",
       "      <td>48.085763</td>\n",
       "      <td>کردستان</td>\n",
       "      <td>35.703801</td>\n",
       "      <td>51.398824</td>\n",
       "      <td>تهران</td>\n",
       "      <td>391.0</td>\n",
       "      <td>271.0</td>\n",
       "      <td>khavar</td>\n",
       "      <td>mosaghaf_felezi</td>\n",
       "      <td>2.50</td>\n",
       "      <td>1300000</td>\n",
       "    </tr>\n",
       "    <tr>\n",
       "      <th>68088966447</th>\n",
       "      <td>960609</td>\n",
       "      <td>31.586965</td>\n",
       "      <td>54.449607</td>\n",
       "      <td>یزد</td>\n",
       "      <td>36.730367</td>\n",
       "      <td>53.965480</td>\n",
       "      <td>گلستان</td>\n",
       "      <td>756.0</td>\n",
       "      <td>573.0</td>\n",
       "      <td>joft</td>\n",
       "      <td>bari</td>\n",
       "      <td>15.00</td>\n",
       "      <td>8870000</td>\n",
       "    </tr>\n",
       "  </tbody>\n",
       "</table>\n",
       "</div>"
      ],
      "text/plain": [
       "               date  sourceLatitude  sourceLongitude         SourceState  \\\n",
       "ID                                                                         \n",
       "88142929797  960218       36.666045        48.489706               زنجان   \n",
       "30842979862  960511       32.323951        50.855412  چهارمحال و بختیاری   \n",
       "54262798716  960602       32.575448        51.581011              اصفهان   \n",
       "64071173752  960319       35.029685        48.085763             کردستان   \n",
       "68088966447  960609       31.586965        54.449607                 یزد   \n",
       "\n",
       "             destinationLatitude  destinationLongitude destinationState  \\\n",
       "ID                                                                        \n",
       "88142929797            29.600574             52.537114             فارس   \n",
       "30842979862            34.644923             50.876092               قم   \n",
       "54262798716            31.819508             49.865235          خوزستان   \n",
       "64071173752            35.703801             51.398824            تهران   \n",
       "68088966447            36.730367             53.965480           گلستان   \n",
       "\n",
       "             distanceKM  taxiDurationMin vehicleType    vehicleOption  weight  \\\n",
       "ID                                                                              \n",
       "88142929797      1092.0            751.0      treili             kafi   20.00   \n",
       "30842979862       414.0            264.0      khavar  mosaghaf_felezi    2.50   \n",
       "54262798716       310.0            292.0        joft        kompressi   14.97   \n",
       "64071173752       391.0            271.0      khavar  mosaghaf_felezi    2.50   \n",
       "68088966447       756.0            573.0        joft             bari   15.00   \n",
       "\n",
       "                price  \n",
       "ID                     \n",
       "88142929797  15300000  \n",
       "30842979862   1800000  \n",
       "54262798716   3742000  \n",
       "64071173752   1300000  \n",
       "68088966447   8870000  "
      ]
     },
     "execution_count": 126,
     "metadata": {},
     "output_type": "execute_result"
    }
   ],
   "source": [
    "data.head()"
   ]
  },
  {
   "cell_type": "code",
   "execution_count": 127,
   "id": "popular-trader",
   "metadata": {},
   "outputs": [
    {
     "data": {
      "text/plain": [
       "Index(['date', 'sourceLatitude', 'sourceLongitude', 'SourceState',\n",
       "       'destinationLatitude', 'destinationLongitude', 'destinationState',\n",
       "       'distanceKM', 'taxiDurationMin', 'vehicleType', 'vehicleOption',\n",
       "       'weight', 'price'],\n",
       "      dtype='object')"
      ]
     },
     "execution_count": 127,
     "metadata": {},
     "output_type": "execute_result"
    }
   ],
   "source": [
    "data.columns"
   ]
  },
  {
   "cell_type": "code",
   "execution_count": 128,
   "id": "molecular-armstrong",
   "metadata": {},
   "outputs": [],
   "source": [
    "columns_countinous = ['date', 'sourceLatitude', 'sourceLongitude', 'destinationLatitude', 'destinationLongitude', 'distanceKM', 'taxiDurationMin', 'weight']\n",
    "columns_cat = ['vehicleType', 'vehicleOption', 'SourceState', 'destinationState']"
   ]
  },
  {
   "cell_type": "code",
   "execution_count": 129,
   "id": "macro-graphics",
   "metadata": {},
   "outputs": [],
   "source": [
    "data_oh = pd.get_dummies(data, columns=columns_cat, drop_first=True)"
   ]
  },
  {
   "cell_type": "code",
   "execution_count": 130,
   "id": "interior-eight",
   "metadata": {},
   "outputs": [
    {
     "data": {
      "text/html": [
       "<div>\n",
       "<style scoped>\n",
       "    .dataframe tbody tr th:only-of-type {\n",
       "        vertical-align: middle;\n",
       "    }\n",
       "\n",
       "    .dataframe tbody tr th {\n",
       "        vertical-align: top;\n",
       "    }\n",
       "\n",
       "    .dataframe thead th {\n",
       "        text-align: right;\n",
       "    }\n",
       "</style>\n",
       "<table border=\"1\" class=\"dataframe\">\n",
       "  <thead>\n",
       "    <tr style=\"text-align: right;\">\n",
       "      <th></th>\n",
       "      <th>date</th>\n",
       "      <th>sourceLatitude</th>\n",
       "      <th>sourceLongitude</th>\n",
       "      <th>destinationLatitude</th>\n",
       "      <th>destinationLongitude</th>\n",
       "      <th>distanceKM</th>\n",
       "      <th>taxiDurationMin</th>\n",
       "      <th>weight</th>\n",
       "      <th>price</th>\n",
       "      <th>vehicleType_khavar</th>\n",
       "      <th>...</th>\n",
       "      <th>destinationState_هرمزگان</th>\n",
       "      <th>destinationState_همدان</th>\n",
       "      <th>destinationState_چهارمحال و بختیاری</th>\n",
       "      <th>destinationState_کردستان</th>\n",
       "      <th>destinationState_کرمان</th>\n",
       "      <th>destinationState_کرمانشاه</th>\n",
       "      <th>destinationState_کهگیلویه و بویراحمد</th>\n",
       "      <th>destinationState_گلستان</th>\n",
       "      <th>destinationState_گیلان</th>\n",
       "      <th>destinationState_یزد</th>\n",
       "    </tr>\n",
       "    <tr>\n",
       "      <th>ID</th>\n",
       "      <th></th>\n",
       "      <th></th>\n",
       "      <th></th>\n",
       "      <th></th>\n",
       "      <th></th>\n",
       "      <th></th>\n",
       "      <th></th>\n",
       "      <th></th>\n",
       "      <th></th>\n",
       "      <th></th>\n",
       "      <th></th>\n",
       "      <th></th>\n",
       "      <th></th>\n",
       "      <th></th>\n",
       "      <th></th>\n",
       "      <th></th>\n",
       "      <th></th>\n",
       "      <th></th>\n",
       "      <th></th>\n",
       "      <th></th>\n",
       "      <th></th>\n",
       "    </tr>\n",
       "  </thead>\n",
       "  <tbody>\n",
       "    <tr>\n",
       "      <th>88142929797</th>\n",
       "      <td>960218</td>\n",
       "      <td>36.666045</td>\n",
       "      <td>48.489706</td>\n",
       "      <td>29.600574</td>\n",
       "      <td>52.537114</td>\n",
       "      <td>1092.0</td>\n",
       "      <td>751.0</td>\n",
       "      <td>20.00</td>\n",
       "      <td>15300000</td>\n",
       "      <td>0</td>\n",
       "      <td>...</td>\n",
       "      <td>0</td>\n",
       "      <td>0</td>\n",
       "      <td>0</td>\n",
       "      <td>0</td>\n",
       "      <td>0</td>\n",
       "      <td>0</td>\n",
       "      <td>0</td>\n",
       "      <td>0</td>\n",
       "      <td>0</td>\n",
       "      <td>0</td>\n",
       "    </tr>\n",
       "    <tr>\n",
       "      <th>30842979862</th>\n",
       "      <td>960511</td>\n",
       "      <td>32.323951</td>\n",
       "      <td>50.855412</td>\n",
       "      <td>34.644923</td>\n",
       "      <td>50.876092</td>\n",
       "      <td>414.0</td>\n",
       "      <td>264.0</td>\n",
       "      <td>2.50</td>\n",
       "      <td>1800000</td>\n",
       "      <td>1</td>\n",
       "      <td>...</td>\n",
       "      <td>0</td>\n",
       "      <td>0</td>\n",
       "      <td>0</td>\n",
       "      <td>0</td>\n",
       "      <td>0</td>\n",
       "      <td>0</td>\n",
       "      <td>0</td>\n",
       "      <td>0</td>\n",
       "      <td>0</td>\n",
       "      <td>0</td>\n",
       "    </tr>\n",
       "    <tr>\n",
       "      <th>54262798716</th>\n",
       "      <td>960602</td>\n",
       "      <td>32.575448</td>\n",
       "      <td>51.581011</td>\n",
       "      <td>31.819508</td>\n",
       "      <td>49.865235</td>\n",
       "      <td>310.0</td>\n",
       "      <td>292.0</td>\n",
       "      <td>14.97</td>\n",
       "      <td>3742000</td>\n",
       "      <td>0</td>\n",
       "      <td>...</td>\n",
       "      <td>0</td>\n",
       "      <td>0</td>\n",
       "      <td>0</td>\n",
       "      <td>0</td>\n",
       "      <td>0</td>\n",
       "      <td>0</td>\n",
       "      <td>0</td>\n",
       "      <td>0</td>\n",
       "      <td>0</td>\n",
       "      <td>0</td>\n",
       "    </tr>\n",
       "    <tr>\n",
       "      <th>64071173752</th>\n",
       "      <td>960319</td>\n",
       "      <td>35.029685</td>\n",
       "      <td>48.085763</td>\n",
       "      <td>35.703801</td>\n",
       "      <td>51.398824</td>\n",
       "      <td>391.0</td>\n",
       "      <td>271.0</td>\n",
       "      <td>2.50</td>\n",
       "      <td>1300000</td>\n",
       "      <td>1</td>\n",
       "      <td>...</td>\n",
       "      <td>0</td>\n",
       "      <td>0</td>\n",
       "      <td>0</td>\n",
       "      <td>0</td>\n",
       "      <td>0</td>\n",
       "      <td>0</td>\n",
       "      <td>0</td>\n",
       "      <td>0</td>\n",
       "      <td>0</td>\n",
       "      <td>0</td>\n",
       "    </tr>\n",
       "    <tr>\n",
       "      <th>68088966447</th>\n",
       "      <td>960609</td>\n",
       "      <td>31.586965</td>\n",
       "      <td>54.449607</td>\n",
       "      <td>36.730367</td>\n",
       "      <td>53.965480</td>\n",
       "      <td>756.0</td>\n",
       "      <td>573.0</td>\n",
       "      <td>15.00</td>\n",
       "      <td>8870000</td>\n",
       "      <td>0</td>\n",
       "      <td>...</td>\n",
       "      <td>0</td>\n",
       "      <td>0</td>\n",
       "      <td>0</td>\n",
       "      <td>0</td>\n",
       "      <td>0</td>\n",
       "      <td>0</td>\n",
       "      <td>0</td>\n",
       "      <td>1</td>\n",
       "      <td>0</td>\n",
       "      <td>0</td>\n",
       "    </tr>\n",
       "  </tbody>\n",
       "</table>\n",
       "<p>5 rows × 80 columns</p>\n",
       "</div>"
      ],
      "text/plain": [
       "               date  sourceLatitude  sourceLongitude  destinationLatitude  \\\n",
       "ID                                                                          \n",
       "88142929797  960218       36.666045        48.489706            29.600574   \n",
       "30842979862  960511       32.323951        50.855412            34.644923   \n",
       "54262798716  960602       32.575448        51.581011            31.819508   \n",
       "64071173752  960319       35.029685        48.085763            35.703801   \n",
       "68088966447  960609       31.586965        54.449607            36.730367   \n",
       "\n",
       "             destinationLongitude  distanceKM  taxiDurationMin  weight  \\\n",
       "ID                                                                       \n",
       "88142929797             52.537114      1092.0            751.0   20.00   \n",
       "30842979862             50.876092       414.0            264.0    2.50   \n",
       "54262798716             49.865235       310.0            292.0   14.97   \n",
       "64071173752             51.398824       391.0            271.0    2.50   \n",
       "68088966447             53.965480       756.0            573.0   15.00   \n",
       "\n",
       "                price  vehicleType_khavar  ...  destinationState_هرمزگان  \\\n",
       "ID                                         ...                             \n",
       "88142929797  15300000                   0  ...                         0   \n",
       "30842979862   1800000                   1  ...                         0   \n",
       "54262798716   3742000                   0  ...                         0   \n",
       "64071173752   1300000                   1  ...                         0   \n",
       "68088966447   8870000                   0  ...                         0   \n",
       "\n",
       "             destinationState_همدان  destinationState_چهارمحال و بختیاری  \\\n",
       "ID                                                                         \n",
       "88142929797                       0                                    0   \n",
       "30842979862                       0                                    0   \n",
       "54262798716                       0                                    0   \n",
       "64071173752                       0                                    0   \n",
       "68088966447                       0                                    0   \n",
       "\n",
       "             destinationState_کردستان  destinationState_کرمان  \\\n",
       "ID                                                              \n",
       "88142929797                         0                       0   \n",
       "30842979862                         0                       0   \n",
       "54262798716                         0                       0   \n",
       "64071173752                         0                       0   \n",
       "68088966447                         0                       0   \n",
       "\n",
       "             destinationState_کرمانشاه  destinationState_کهگیلویه و بویراحمد  \\\n",
       "ID                                                                             \n",
       "88142929797                          0                                     0   \n",
       "30842979862                          0                                     0   \n",
       "54262798716                          0                                     0   \n",
       "64071173752                          0                                     0   \n",
       "68088966447                          0                                     0   \n",
       "\n",
       "             destinationState_گلستان  destinationState_گیلان  \\\n",
       "ID                                                             \n",
       "88142929797                        0                       0   \n",
       "30842979862                        0                       0   \n",
       "54262798716                        0                       0   \n",
       "64071173752                        0                       0   \n",
       "68088966447                        1                       0   \n",
       "\n",
       "             destinationState_یزد  \n",
       "ID                                 \n",
       "88142929797                     0  \n",
       "30842979862                     0  \n",
       "54262798716                     0  \n",
       "64071173752                     0  \n",
       "68088966447                     0  \n",
       "\n",
       "[5 rows x 80 columns]"
      ]
     },
     "execution_count": 130,
     "metadata": {},
     "output_type": "execute_result"
    }
   ],
   "source": [
    "data_oh.head()"
   ]
  },
  {
   "cell_type": "code",
   "execution_count": 131,
   "id": "junior-alias",
   "metadata": {},
   "outputs": [],
   "source": [
    "features_columns = data_oh.columns[data_oh.columns  != 'price'].values"
   ]
  },
  {
   "cell_type": "code",
   "execution_count": 132,
   "id": "micro-accuracy",
   "metadata": {},
   "outputs": [
    {
     "name": "stdout",
     "output_type": "stream",
     "text": [
      "Train MAPE: 0.1574583093875584\n",
      "Dev MAPE: 0.20567578430146027\n",
      "Train MAPE: 0.15805057157208194\n",
      "Dev MAPE: 0.20569795925449877\n",
      "Train MAPE: 0.15836032980310058\n",
      "Dev MAPE: 0.20504735812479474\n",
      "Train MAPE: 0.1565367027434826\n",
      "Dev MAPE: 0.21063968251713885\n",
      "Train MAPE: 0.15721836801068415\n",
      "Dev MAPE: 0.20556252175185635\n",
      "Mean MAPE: 0.20652466118994978\n",
      "Std MAPE: 0.002071017393928028\n"
     ]
    }
   ],
   "source": [
    "\n",
    "y_full = data_oh['price'].values\n",
    "x_full = data_oh[features_columns].values\n",
    "\n",
    "kfold = KFold(n_splits=5)\n",
    "\n",
    "train_mapes = []\n",
    "dev_mapes = []\n",
    "dev_preds = []\n",
    "dev_refs = []\n",
    "dev_inds = []\n",
    "\n",
    "for train_ind, dev_ind in kfold.split(x_full):\n",
    "    \n",
    "    model = RandomForestRegressor(n_estimators=20, max_depth=None, min_samples_leaf=8)\n",
    "#     model = Ridge(alpha=10, solver='auto')\n",
    "    \n",
    "    x_train = x_full[train_ind]\n",
    "    y_train = y_full[train_ind]\n",
    "    x_dev = x_full[dev_ind]\n",
    "    y_dev = y_full[dev_ind]\n",
    "    \n",
    "    scaler = StandardScaler()\n",
    "    scaler.fit(x_train)\n",
    "    x_train = scaler.transform(x_train)\n",
    "    x_dev = scaler.transform(x_dev)\n",
    "\n",
    "    model.fit(x_train, y_train)\n",
    "\n",
    "    preds_train = model.predict(x_train)\n",
    "    preds_dev = model.predict(x_dev)\n",
    "\n",
    "    train_mape = mean_absolute_percentage_error(y_train, preds_train)\n",
    "    dev_mape = mean_absolute_percentage_error(y_dev, preds_dev)\n",
    "    \n",
    "    train_mapes.append(train_mape)\n",
    "    dev_mapes.append(dev_mape)\n",
    "    \n",
    "    dev_preds.extend(list(preds_dev))\n",
    "    dev_refs.extend(list(y_dev))\n",
    "    dev_inds.extend(list(dev_ind))\n",
    "    \n",
    "    print(f\"Train MAPE: {train_mape}\")\n",
    "    print(f\"Dev MAPE: {dev_mape}\")\n",
    "\n",
    "print(f\"Mean MAPE: {np.mean(dev_mapes)}\")\n",
    "print(f\"Std MAPE: {np.std(dev_mapes)}\")"
   ]
  },
  {
   "cell_type": "code",
   "execution_count": 133,
   "id": "superior-tiffany",
   "metadata": {},
   "outputs": [],
   "source": [
    "results = pd.DataFrame(list(zip(dev_refs, dev_preds, dev_inds)), columns=['refs', 'preds', 'inds'])"
   ]
  },
  {
   "cell_type": "code",
   "execution_count": 134,
   "id": "illegal-gentleman",
   "metadata": {},
   "outputs": [],
   "source": [
    "results = results.sort_values('inds')"
   ]
  },
  {
   "cell_type": "code",
   "execution_count": 135,
   "id": "incident-chosen",
   "metadata": {},
   "outputs": [
    {
     "data": {
      "text/html": [
       "<div>\n",
       "<style scoped>\n",
       "    .dataframe tbody tr th:only-of-type {\n",
       "        vertical-align: middle;\n",
       "    }\n",
       "\n",
       "    .dataframe tbody tr th {\n",
       "        vertical-align: top;\n",
       "    }\n",
       "\n",
       "    .dataframe thead th {\n",
       "        text-align: right;\n",
       "    }\n",
       "</style>\n",
       "<table border=\"1\" class=\"dataframe\">\n",
       "  <thead>\n",
       "    <tr style=\"text-align: right;\">\n",
       "      <th></th>\n",
       "      <th>refs</th>\n",
       "      <th>preds</th>\n",
       "      <th>inds</th>\n",
       "    </tr>\n",
       "  </thead>\n",
       "  <tbody>\n",
       "    <tr>\n",
       "      <th>0</th>\n",
       "      <td>15300000</td>\n",
       "      <td>1.064590e+07</td>\n",
       "      <td>0</td>\n",
       "    </tr>\n",
       "    <tr>\n",
       "      <th>1</th>\n",
       "      <td>1800000</td>\n",
       "      <td>2.581623e+06</td>\n",
       "      <td>1</td>\n",
       "    </tr>\n",
       "    <tr>\n",
       "      <th>2</th>\n",
       "      <td>3742000</td>\n",
       "      <td>3.744306e+06</td>\n",
       "      <td>2</td>\n",
       "    </tr>\n",
       "    <tr>\n",
       "      <th>3</th>\n",
       "      <td>1300000</td>\n",
       "      <td>1.500665e+06</td>\n",
       "      <td>3</td>\n",
       "    </tr>\n",
       "    <tr>\n",
       "      <th>4</th>\n",
       "      <td>8870000</td>\n",
       "      <td>9.339907e+06</td>\n",
       "      <td>4</td>\n",
       "    </tr>\n",
       "  </tbody>\n",
       "</table>\n",
       "</div>"
      ],
      "text/plain": [
       "       refs         preds  inds\n",
       "0  15300000  1.064590e+07     0\n",
       "1   1800000  2.581623e+06     1\n",
       "2   3742000  3.744306e+06     2\n",
       "3   1300000  1.500665e+06     3\n",
       "4   8870000  9.339907e+06     4"
      ]
     },
     "execution_count": 135,
     "metadata": {},
     "output_type": "execute_result"
    }
   ],
   "source": [
    "results.head()"
   ]
  },
  {
   "cell_type": "code",
   "execution_count": 136,
   "id": "interested-species",
   "metadata": {},
   "outputs": [
    {
     "data": {
      "text/plain": [
       "(0.0, 50000000.0)"
      ]
     },
     "execution_count": 136,
     "metadata": {},
     "output_type": "execute_result"
    },
    {
     "data": {
      "image/png": "[encoded data removed]",
      "text/plain": [
       "<Figure size 720x720 with 1 Axes>"
      ]
     },
     "metadata": {
      "needs_background": "light"
     },
     "output_type": "display_data"
    }
   ],
   "source": [
    "import seaborn as sns\n",
    "import matplotlib.pylab as plt\n",
    "plt.figure(figsize=(10,10))\n",
    "sns.histplot(data=results, x='refs', y='preds')\n",
    "plt.plot([0, 50000000], [0, 50000000], linewidth=1, c='r')\n",
    "plt.xlim([0, 50000000])\n",
    "plt.ylim([0, 50000000])"
   ]
  },
  {
   "cell_type": "markdown",
   "id": "rental-canberra",
   "metadata": {},
   "source": [
    "## Error analysis"
   ]
  },
  {
   "cell_type": "code",
   "execution_count": 137,
   "id": "about-newspaper",
   "metadata": {},
   "outputs": [],
   "source": [
    "data['refs'] = results['refs'].values\n",
    "data['preds'] = results['preds'].values"
   ]
  },
  {
   "cell_type": "code",
   "execution_count": 146,
   "id": "elder-yield",
   "metadata": {},
   "outputs": [
    {
     "data": {
      "image/png": "[encoded data removed]",
      "text/plain": [
       "<Figure size 432x288 with 1 Axes>"
      ]
     },
     "metadata": {
      "needs_background": "light"
     },
     "output_type": "display_data"
    },
    {
     "data": {
      "image/png": "[encoded data removed]",
      "text/plain": [
       "<Figure size 432x288 with 1 Axes>"
      ]
     },
     "metadata": {
      "needs_background": "light"
     },
     "output_type": "display_data"
    },
    {
     "data": {
      "image/png": "[encoded data removed]",
      "text/plain": [
       "<Figure size 432x288 with 1 Axes>"
      ]
     },
     "metadata": {
      "needs_background": "light"
     },
     "output_type": "display_data"
    },
    {
     "data": {
      "image/png": "[encoded data removed]",
      "text/plain": [
       "<Figure size 432x288 with 1 Axes>"
      ]
     },
     "metadata": {
      "needs_background": "light"
     },
     "output_type": "display_data"
    },
    {
     "data": {
      "image/png": "[encoded data removed]",
      "text/plain": [
       "<Figure size 432x288 with 1 Axes>"
      ]
     },
     "metadata": {
      "needs_background": "light"
     },
     "output_type": "display_data"
    },
    {
     "data": {
      "image/png": "[encoded data removed]",
      "text/plain": [
       "<Figure size 432x288 with 1 Axes>"
      ]
     },
     "metadata": {
      "needs_background": "light"
     },
     "output_type": "display_data"
    },
    {
     "data": {
      "image/png": "[encoded data removed]",
      "text/plain": [
       "<Figure size 432x288 with 1 Axes>"
      ]
     },
     "metadata": {
      "needs_background": "light"
     },
     "output_type": "display_data"
    },
    {
     "data": {
      "image/png": "[encoded data removed]",
      "text/plain": [
       "<Figure size 432x288 with 1 Axes>"
      ]
     },
     "metadata": {
      "needs_background": "light"
     },
     "output_type": "display_data"
    },
    {
     "data": {
      "image/png": "[encoded data removed]",
      "text/plain": [
       "<Figure size 432x288 with 1 Axes>"
      ]
     },
     "metadata": {
      "needs_background": "light"
     },
     "output_type": "display_data"
    }
   ],
   "source": [
    "column = 'vehicleOption'\n",
    "\n",
    "for vehicle_type in data[column].unique():\n",
    "    tmp_data = data[data[column] == vehicle_type]\n",
    "    plt.title(f\"{vehicle_type}, MPAE: {mean_absolute_percentage_error(tmp_data['refs'], tmp_data['preds'])}\")\n",
    "    sns.histplot(data=tmp_data, x='refs', y='preds')\n",
    "    plt.xlim([0, 50000000])\n",
    "    plt.ylim([0, 50000000])\n",
    "    plt.show()"
   ]
  },
  {
   "cell_type": "code",
   "execution_count": null,
   "id": "after-basement",
   "metadata": {},
   "outputs": [],
   "source": []
  }
 ],
 "metadata": {
  "kernelspec": {
   "display_name": "Python 3",
   "language": "python",
   "name": "python3"
  },
  "language_info": {
   "codemirror_mode": {
    "name": "ipython",
    "version": 3
   },
   "file_extension": ".py",
   "mimetype": "text/x-python",
   "name": "python",
   "nbconvert_exporter": "python",
   "pygments_lexer": "ipython3",
   "version": "3.7.6"
  }
 },
 "nbformat": 4,
 "nbformat_minor": 5
}
